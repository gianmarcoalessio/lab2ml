{
 "cells": [
  {
   "cell_type": "code",
   "execution_count": 1,
   "id": "3f28acc9-4a53-4f29-82e2-c7340b97bb53",
   "metadata": {},
   "outputs": [
    {
     "data": {
      "text/html": [
       "<div>\n",
       "<style scoped>\n",
       "    .dataframe tbody tr th:only-of-type {\n",
       "        vertical-align: middle;\n",
       "    }\n",
       "\n",
       "    .dataframe tbody tr th {\n",
       "        vertical-align: top;\n",
       "    }\n",
       "\n",
       "    .dataframe thead th {\n",
       "        text-align: right;\n",
       "    }\n",
       "</style>\n",
       "<table border=\"1\" class=\"dataframe\">\n",
       "  <thead>\n",
       "    <tr style=\"text-align: right;\">\n",
       "      <th></th>\n",
       "      <th>Unnamed: 0</th>\n",
       "      <th>X</th>\n",
       "      <th>y</th>\n",
       "    </tr>\n",
       "  </thead>\n",
       "  <tbody>\n",
       "    <tr>\n",
       "      <th>0</th>\n",
       "      <td>0</td>\n",
       "      <td>@nathaliejacoby1 You're just another Libtard 🤡...</td>\n",
       "      <td>1</td>\n",
       "    </tr>\n",
       "    <tr>\n",
       "      <th>1</th>\n",
       "      <td>1</td>\n",
       "      <td>@POTUS @PressSec @SecCardona You don’t have th...</td>\n",
       "      <td>1</td>\n",
       "    </tr>\n",
       "    <tr>\n",
       "      <th>2</th>\n",
       "      <td>2</td>\n",
       "      <td>@sfk3226 @KariLake @katiehobbs You need cry</td>\n",
       "      <td>1</td>\n",
       "    </tr>\n",
       "    <tr>\n",
       "      <th>3</th>\n",
       "      <td>3</td>\n",
       "      <td>@fred_guttenberg Yes those crazy maga terroris...</td>\n",
       "      <td>1</td>\n",
       "    </tr>\n",
       "    <tr>\n",
       "      <th>4</th>\n",
       "      <td>4</td>\n",
       "      <td>@HouseGOP @GOPLeader 80 to receive 460 BILLION...</td>\n",
       "      <td>1</td>\n",
       "    </tr>\n",
       "    <tr>\n",
       "      <th>...</th>\n",
       "      <td>...</td>\n",
       "      <td>...</td>\n",
       "      <td>...</td>\n",
       "    </tr>\n",
       "    <tr>\n",
       "      <th>1995</th>\n",
       "      <td>995</td>\n",
       "      <td>@RealSkipBayless @undisputed Darnold starting ...</td>\n",
       "      <td>0</td>\n",
       "    </tr>\n",
       "    <tr>\n",
       "      <th>1996</th>\n",
       "      <td>996</td>\n",
       "      <td>@ShannonSharpe @undisputed Would you believe… ...</td>\n",
       "      <td>0</td>\n",
       "    </tr>\n",
       "    <tr>\n",
       "      <th>1997</th>\n",
       "      <td>997</td>\n",
       "      <td>@ShannonSharpe @undisputed Skip has to tweet i...</td>\n",
       "      <td>0</td>\n",
       "    </tr>\n",
       "    <tr>\n",
       "      <th>1998</th>\n",
       "      <td>998</td>\n",
       "      <td>Why do I think @WeaverNFLF was neck deep in th...</td>\n",
       "      <td>0</td>\n",
       "    </tr>\n",
       "    <tr>\n",
       "      <th>1999</th>\n",
       "      <td>999</td>\n",
       "      <td>In case you think this is a goof or something,...</td>\n",
       "      <td>0</td>\n",
       "    </tr>\n",
       "  </tbody>\n",
       "</table>\n",
       "<p>2000 rows × 3 columns</p>\n",
       "</div>"
      ],
      "text/plain": [
       "      Unnamed: 0                                                  X  y\n",
       "0              0  @nathaliejacoby1 You're just another Libtard 🤡...  1\n",
       "1              1  @POTUS @PressSec @SecCardona You don’t have th...  1\n",
       "2              2        @sfk3226 @KariLake @katiehobbs You need cry  1\n",
       "3              3  @fred_guttenberg Yes those crazy maga terroris...  1\n",
       "4              4  @HouseGOP @GOPLeader 80 to receive 460 BILLION...  1\n",
       "...          ...                                                ... ..\n",
       "1995         995  @RealSkipBayless @undisputed Darnold starting ...  0\n",
       "1996         996  @ShannonSharpe @undisputed Would you believe… ...  0\n",
       "1997         997  @ShannonSharpe @undisputed Skip has to tweet i...  0\n",
       "1998         998  Why do I think @WeaverNFLF was neck deep in th...  0\n",
       "1999         999  In case you think this is a goof or something,...  0\n",
       "\n",
       "[2000 rows x 3 columns]"
      ]
     },
     "metadata": {},
     "output_type": "display_data"
    },
    {
     "name": "stdout",
     "output_type": "stream",
     "text": [
      "Vocabulary size using stemming: 796\n",
      "X_train: (1400, 796)\n",
      "X_test: (600, 796)\n"
     ]
    },
    {
     "data": {
      "text/plain": [
       "'Cross Validation accuracy scores'"
      ]
     },
     "metadata": {},
     "output_type": "display_data"
    },
    {
     "data": {
      "text/plain": [
       "'1: 0.9179'"
      ]
     },
     "metadata": {},
     "output_type": "display_data"
    },
    {
     "data": {
      "text/plain": [
       "'2: 0.9536'"
      ]
     },
     "metadata": {},
     "output_type": "display_data"
    },
    {
     "data": {
      "text/plain": [
       "'3: 0.9107'"
      ]
     },
     "metadata": {},
     "output_type": "display_data"
    },
    {
     "data": {
      "text/plain": [
       "'4: 0.9536'"
      ]
     },
     "metadata": {},
     "output_type": "display_data"
    },
    {
     "data": {
      "text/plain": [
       "'5: 0.9214'"
      ]
     },
     "metadata": {},
     "output_type": "display_data"
    },
    {
     "data": {
      "text/plain": [
       "'Accuracy MEAN: 0.9314'"
      ]
     },
     "metadata": {},
     "output_type": "display_data"
    },
    {
     "data": {
      "text/plain": [
       "'Test set accuracy: 0.9433'"
      ]
     },
     "metadata": {},
     "output_type": "display_data"
    },
    {
     "data": {
      "text/plain": [
       "array([[271,  13],\n",
       "       [ 21, 295]])"
      ]
     },
     "metadata": {},
     "output_type": "display_data"
    }
   ],
   "source": [
    "import pandas as pd\n",
    "\n",
    "# DATA GATHERING\n",
    "\n",
    "# load dataset\n",
    "df_D = pd.read_csv(\"data/dataset.csv\")\n",
    "display(df_D)\n",
    "\n",
    "\n",
    "# PRE-PROCESS\n",
    "from sklearn.model_selection import train_test_split\n",
    "\n",
    "# split data\n",
    "X_train, X_test, y_train, y_test = train_test_split(\n",
    "    df_D.loc[:,'X'], df_D.loc[:,'y'], test_size=0.3, random_state=120)\n",
    "\n",
    "## BAG-OF-WORD\n",
    "from sklearn.feature_extraction.text import CountVectorizer\n",
    "from nltk.stem.snowball import SnowballStemmer\n",
    "\n",
    "# prepare stemmer\n",
    "stemmer = SnowballStemmer(\"english\")\n",
    "def tokenizer_snowballStemmer(text):\n",
    "    return [stemmer.stem(word) for word in text.split()]\n",
    "\n",
    "# generate bag-of-word\n",
    "count = CountVectorizer(tokenizer=tokenizer_snowballStemmer, min_df=5, token_pattern=None).fit(X_train)\n",
    "print(\"Vocabulary size using stemming: {}\". format(len(count.vocabulary_)))\n",
    "#print(\"Vocabulary content:\\n {}\".format(count.vocabulary_))\n",
    "\n",
    "# apply transformation to the data\n",
    "X_train_bow = count.transform(X_train)\n",
    "print(\"X_train: {}\".format(X_train_bow.shape))\n",
    "\n",
    "X_test_bow = count.transform(X_test)\n",
    "print(\"X_test: {}\".format(X_test_bow.shape))\n",
    "\n",
    "\n",
    "# MODELING\n",
    "from sklearn.ensemble import RandomForestClassifier\n",
    "\n",
    "# fit a Random Forest model\n",
    "clf = RandomForestClassifier(n_estimators=10)\n",
    "clf = clf.fit(X_train_bow, y_train)\n",
    "\n",
    "# SCORES\n",
    "from sklearn.model_selection import cross_val_score\n",
    "from sklearn.metrics import accuracy_score\n",
    "\n",
    "# plot CV results\n",
    "scores = cross_val_score(clf, X_train_bow, y_train, cv=5, scoring='accuracy')\n",
    "display(\"Cross Validation accuracy scores\")\n",
    "i=1\n",
    "for a in scores:\n",
    "    display(str(i) + \": \" + str(round(a, 4)))\n",
    "    i = i+1\n",
    "display(\"Accuracy MEAN: \"+str(round(scores.mean(),4)))\n",
    "\n",
    "# plot Test set results\n",
    "from sklearn.metrics import confusion_matrix\n",
    "\n",
    "predictions = clf.predict(X_test_bow)\n",
    "test_accuracy = accuracy_score(predictions, y_test)\n",
    "display(\"Test set accuracy: \" + str(round(test_accuracy, 4)))\n",
    "\n",
    "display(confusion_matrix(predictions, y_test)) # display confusion matrix"
   ]
  }
 ],
 "metadata": {
  "kernelspec": {
   "display_name": "Python 3 (ipykernel)",
   "language": "python",
   "name": "python3"
  },
  "language_info": {
   "codemirror_mode": {
    "name": "ipython",
    "version": 3
   },
   "file_extension": ".py",
   "mimetype": "text/x-python",
   "name": "python",
   "nbconvert_exporter": "python",
   "pygments_lexer": "ipython3",
   "version": "3.9.15"
  }
 },
 "nbformat": 4,
 "nbformat_minor": 5
}
